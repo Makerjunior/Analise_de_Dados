{
 "cells": [
  {
   "cell_type": "code",
   "execution_count": 33,
   "id": "3a21e110",
   "metadata": {},
   "outputs": [],
   "source": [
    "import pandas as pd"
   ]
  },
  {
   "cell_type": "code",
   "execution_count": 34,
   "id": "9169b6c8",
   "metadata": {},
   "outputs": [],
   "source": [
    "lista_nomes =' Haward Ian Jonan Kellie'.split() "
   ]
  },
  {
   "cell_type": "code",
   "execution_count": 35,
   "id": "60f2d23b",
   "metadata": {},
   "outputs": [
    {
     "data": {
      "text/plain": [
       "0    Haward\n",
       "1       Ian\n",
       "2     Jonan\n",
       "3    Kellie\n",
       "dtype: object"
      ]
     },
     "execution_count": 35,
     "metadata": {},
     "output_type": "execute_result"
    }
   ],
   "source": [
    "pd.Series(lista_nomes)"
   ]
  },
  {
   "cell_type": "code",
   "execution_count": null,
   "id": "bac347d6",
   "metadata": {},
   "outputs": [],
   "source": []
  },
  {
   "cell_type": "code",
   "execution_count": null,
   "id": "3ab80966",
   "metadata": {},
   "outputs": [],
   "source": []
  },
  {
   "cell_type": "code",
   "execution_count": 36,
   "id": "43751e67",
   "metadata": {},
   "outputs": [
    {
     "data": {
      "text/plain": [
       "nome1    Howard\n",
       "nome2       Ian\n",
       "nome3     Peter\n",
       "nome4     Jonah\n",
       "nome5    Kellie\n",
       "dtype: object"
      ]
     },
     "execution_count": 36,
     "metadata": {},
     "output_type": "execute_result"
    }
   ],
   "source": [
    "dados = {\n",
    "'nome1': 'Howard',\n",
    "'nome2': 'Ian',\n",
    "'nome3': 'Peter',\n",
    "'nome4': 'Jonah',\n",
    "'nome5': 'Kellie',\n",
    "}\n",
    "pd.Series(dados) # Cria uma Series com um dicionario"
   ]
  },
  {
   "cell_type": "code",
   "execution_count": null,
   "id": "50098cd8",
   "metadata": {},
   "outputs": [],
   "source": []
  },
  {
   "cell_type": "code",
   "execution_count": 37,
   "id": "1971be8f",
   "metadata": {},
   "outputs": [
    {
     "data": {
      "text/plain": [
       "111.111.111-11                   Haward\n",
       "222.222.222-22                      Ian\n",
       "333.333.333-33                    Jonan\n",
       "444.444.444-44,555.555.555-55    Kellie\n",
       "dtype: object"
      ]
     },
     "execution_count": 37,
     "metadata": {},
     "output_type": "execute_result"
    }
   ],
   "source": [
    "  # Rotulos - para serem usados  no dicionario\n",
    "cpfs = '111.111.111-11 222.222.222-22 333.333.333-33 444.444.444-44,555.555.555-55'.split()\n",
    " # Exibe o conteudo do dicionário com o rótulo indeicado no construtor  \n",
    "pd.Series(lista_nomes, index=cpfs)"
   ]
  },
  {
   "cell_type": "code",
   "execution_count": 42,
   "id": "e2739014",
   "metadata": {},
   "outputs": [
    {
     "data": {
      "text/plain": [
       "'Haward'"
      ]
     },
     "execution_count": 42,
     "metadata": {},
     "output_type": "execute_result"
    }
   ],
   "source": [
    "# Dusca de dados\n",
    "series_dados=pd.Series(lista_nomes,index=cpfs)\n",
    "series_dados.loc['111.111.111-11']"
   ]
  },
  {
   "cell_type": "code",
   "execution_count": null,
   "id": "9f361f43",
   "metadata": {},
   "outputs": [],
   "source": []
  },
  {
   "cell_type": "code",
   "execution_count": 44,
   "id": "313f54ca",
   "metadata": {},
   "outputs": [
    {
     "name": "stdout",
     "output_type": "stream",
     "text": [
      "Quantidade de linhas =  (5,)\n",
      "Tipo de dados float64\n",
      "Os valores são únicos? True\n",
      "Existem valores nulos? True\n",
      "Quantos valores existem? 4\n",
      "Qual o menor valor? -1.0\n",
      "Qual o maior valor? 23.4\n",
      "Qual a média aritmética? 11.899999999999999\n",
      "Qual o desvio padrão? 10.184301645179211\n",
      "Qual a mediana? 12.6\n",
      "\n",
      "Resumo:\n",
      " count     4.000000\n",
      "mean     11.900000\n",
      "std      10.184302\n",
      "min      -1.000000\n",
      "25%       7.400000\n",
      "50%      12.600000\n",
      "75%      17.100000\n",
      "max      23.400000\n",
      "dtype: float64\n"
     ]
    }
   ],
   "source": [
    "# Detalhamento de dados\n",
    "series_dados = pd.Series([10.2, -1, None, 15, 23.4])\n",
    "print('Quantidade de linhas = ', series_dados.shape) # Retorna uma tupla com o número de linhas\n",
    "print('Tipo de dados', series_dados.dtypes) # Retorna o tipo de dados, se for misto será object\n",
    "print('Os valores são únicos?', series_dados.is_unique) # Verifica se os valores são únicos (sem duplicações)\n",
    "print('Existem valores nulos?', series_dados.hasnans) # Verifica seexistem valores nulos\n",
    "print('Quantos valores existem?', series_dados.count()) # Conta quantas valores existem (excluí os nulos)\n",
    "print('Qual o menor valor?', series_dados.min()) # Extrai o menor valor da Series (nesse caso os dados precisam ser do mesmo tipo)\n",
    "print('Qual o maior valor?', series_dados.max()) # Extrai o valor máximo, com a mesma condição do mínimo\n",
    "print('Qual a média aritmética?', series_dados.mean()) # Extrai a média aritmética de uma Series numérica\n",
    "print('Qual o desvio padrão?', series_dados.std()) # Extrai o desvio padrão de uma Series numérica\n",
    "print('Qual a mediana?', series_dados.median()) # Extrai a mediana de uma Series numérica\n",
    "print('\\nResumo:\\n', series_dados.describe()) # Exibe um resumo sobre os dados na Series"
   ]
  },
  {
   "cell_type": "code",
   "execution_count": null,
   "id": "dc8bc951",
   "metadata": {},
   "outputs": [],
   "source": [
    "#Dataframe"
   ]
  },
  {
   "cell_type": "code",
   "execution_count": 51,
   "id": "70cec0b5",
   "metadata": {},
   "outputs": [],
   "source": [
    "lista_nomes = 'Howard Ian Peter Jonah Kellie'.split()\n",
    "lista_cpfs = '111.111.111-11 222.222.222-22 333.333.333-33 444.444.444-44 555.555.555-55'.split()\n",
    "lista_emails = 'risus.varius@dictumPhasellusin.ca Nunc@vulputate.ca fames.ac.turpis@cursusa.org non@felisullamcorper.org eget.dictum.placerat@necluctus.co.uk'.split()\n",
    "lista_idades = [32, 22, 25, 29, 38]"
   ]
  },
  {
   "cell_type": "code",
   "execution_count": 52,
   "id": "0d62e3d0",
   "metadata": {},
   "outputs": [
    {
     "data": {
      "text/html": [
       "<div>\n",
       "<style scoped>\n",
       "    .dataframe tbody tr th:only-of-type {\n",
       "        vertical-align: middle;\n",
       "    }\n",
       "\n",
       "    .dataframe tbody tr th {\n",
       "        vertical-align: top;\n",
       "    }\n",
       "\n",
       "    .dataframe thead th {\n",
       "        text-align: right;\n",
       "    }\n",
       "</style>\n",
       "<table border=\"1\" class=\"dataframe\">\n",
       "  <thead>\n",
       "    <tr style=\"text-align: right;\">\n",
       "      <th></th>\n",
       "      <th>nome</th>\n",
       "    </tr>\n",
       "  </thead>\n",
       "  <tbody>\n",
       "    <tr>\n",
       "      <th>0</th>\n",
       "      <td>Howard</td>\n",
       "    </tr>\n",
       "    <tr>\n",
       "      <th>1</th>\n",
       "      <td>Ian</td>\n",
       "    </tr>\n",
       "    <tr>\n",
       "      <th>2</th>\n",
       "      <td>Peter</td>\n",
       "    </tr>\n",
       "    <tr>\n",
       "      <th>3</th>\n",
       "      <td>Jonah</td>\n",
       "    </tr>\n",
       "    <tr>\n",
       "      <th>4</th>\n",
       "      <td>Kellie</td>\n",
       "    </tr>\n",
       "  </tbody>\n",
       "</table>\n",
       "</div>"
      ],
      "text/plain": [
       "     nome\n",
       "0  Howard\n",
       "1     Ian\n",
       "2   Peter\n",
       "3   Jonah\n",
       "4  Kellie"
      ]
     },
     "execution_count": 52,
     "metadata": {},
     "output_type": "execute_result"
    }
   ],
   "source": [
    "pd.DataFrame(lista_nomes, columns=['nome'])"
   ]
  },
  {
   "cell_type": "code",
   "execution_count": 53,
   "id": "8bc84fbb",
   "metadata": {},
   "outputs": [
    {
     "data": {
      "text/html": [
       "<div>\n",
       "<style scoped>\n",
       "    .dataframe tbody tr th:only-of-type {\n",
       "        vertical-align: middle;\n",
       "    }\n",
       "\n",
       "    .dataframe tbody tr th {\n",
       "        vertical-align: top;\n",
       "    }\n",
       "\n",
       "    .dataframe thead th {\n",
       "        text-align: right;\n",
       "    }\n",
       "</style>\n",
       "<table border=\"1\" class=\"dataframe\">\n",
       "  <thead>\n",
       "    <tr style=\"text-align: right;\">\n",
       "      <th></th>\n",
       "      <th>nome</th>\n",
       "    </tr>\n",
       "  </thead>\n",
       "  <tbody>\n",
       "    <tr>\n",
       "      <th>111.111.111-11</th>\n",
       "      <td>Howard</td>\n",
       "    </tr>\n",
       "    <tr>\n",
       "      <th>222.222.222-22</th>\n",
       "      <td>Ian</td>\n",
       "    </tr>\n",
       "    <tr>\n",
       "      <th>333.333.333-33</th>\n",
       "      <td>Peter</td>\n",
       "    </tr>\n",
       "    <tr>\n",
       "      <th>444.444.444-44</th>\n",
       "      <td>Jonah</td>\n",
       "    </tr>\n",
       "    <tr>\n",
       "      <th>555.555.555-55</th>\n",
       "      <td>Kellie</td>\n",
       "    </tr>\n",
       "  </tbody>\n",
       "</table>\n",
       "</div>"
      ],
      "text/plain": [
       "                  nome\n",
       "111.111.111-11  Howard\n",
       "222.222.222-22     Ian\n",
       "333.333.333-33   Peter\n",
       "444.444.444-44   Jonah\n",
       "555.555.555-55  Kellie"
      ]
     },
     "execution_count": 53,
     "metadata": {},
     "output_type": "execute_result"
    }
   ],
   "source": [
    "pd.DataFrame(lista_nomes, columns=['nome'], index=lista_cpfs)"
   ]
  },
  {
   "cell_type": "code",
   "execution_count": 54,
   "id": "92f4e69e",
   "metadata": {},
   "outputs": [
    {
     "data": {
      "text/html": [
       "<div>\n",
       "<style scoped>\n",
       "    .dataframe tbody tr th:only-of-type {\n",
       "        vertical-align: middle;\n",
       "    }\n",
       "\n",
       "    .dataframe tbody tr th {\n",
       "        vertical-align: top;\n",
       "    }\n",
       "\n",
       "    .dataframe thead th {\n",
       "        text-align: right;\n",
       "    }\n",
       "</style>\n",
       "<table border=\"1\" class=\"dataframe\">\n",
       "  <thead>\n",
       "    <tr style=\"text-align: right;\">\n",
       "      <th></th>\n",
       "      <th>nome</th>\n",
       "      <th>cpfs</th>\n",
       "      <th>idade</th>\n",
       "      <th>email</th>\n",
       "    </tr>\n",
       "  </thead>\n",
       "  <tbody>\n",
       "    <tr>\n",
       "      <th>0</th>\n",
       "      <td>Howard</td>\n",
       "      <td>111.111.111-11</td>\n",
       "      <td>32</td>\n",
       "      <td>risus.varius@dictumPhasellusin.ca</td>\n",
       "    </tr>\n",
       "    <tr>\n",
       "      <th>1</th>\n",
       "      <td>Ian</td>\n",
       "      <td>222.222.222-22</td>\n",
       "      <td>22</td>\n",
       "      <td>Nunc@vulputate.ca</td>\n",
       "    </tr>\n",
       "    <tr>\n",
       "      <th>2</th>\n",
       "      <td>Peter</td>\n",
       "      <td>333.333.333-33</td>\n",
       "      <td>25</td>\n",
       "      <td>fames.ac.turpis@cursusa.org</td>\n",
       "    </tr>\n",
       "    <tr>\n",
       "      <th>3</th>\n",
       "      <td>Jonah</td>\n",
       "      <td>444.444.444-44</td>\n",
       "      <td>29</td>\n",
       "      <td>non@felisullamcorper.org</td>\n",
       "    </tr>\n",
       "    <tr>\n",
       "      <th>4</th>\n",
       "      <td>Kellie</td>\n",
       "      <td>555.555.555-55</td>\n",
       "      <td>38</td>\n",
       "      <td>eget.dictum.placerat@necluctus.co.uk</td>\n",
       "    </tr>\n",
       "  </tbody>\n",
       "</table>\n",
       "</div>"
      ],
      "text/plain": [
       "     nome            cpfs  idade                                 email\n",
       "0  Howard  111.111.111-11     32     risus.varius@dictumPhasellusin.ca\n",
       "1     Ian  222.222.222-22     22                     Nunc@vulputate.ca\n",
       "2   Peter  333.333.333-33     25           fames.ac.turpis@cursusa.org\n",
       "3   Jonah  444.444.444-44     29              non@felisullamcorper.org\n",
       "4  Kellie  555.555.555-55     38  eget.dictum.placerat@necluctus.co.uk"
      ]
     },
     "execution_count": 54,
     "metadata": {},
     "output_type": "execute_result"
    }
   ],
   "source": [
    "dados = list(zip(lista_nomes, lista_cpfs, lista_idades, lista_emails)) # cria uma lista de tuplas\n",
    "pd.DataFrame(dados, columns=['nome', 'cpfs', 'idade', 'email'])"
   ]
  },
  {
   "cell_type": "code",
   "execution_count": null,
   "id": "5218b818",
   "metadata": {},
   "outputs": [],
   "source": [
    "# Pasando dicionario como parâmetro para DataFrame"
   ]
  },
  {
   "cell_type": "code",
   "execution_count": 62,
   "id": "0e0eeff5",
   "metadata": {},
   "outputs": [
    {
     "data": {
      "text/html": [
       "<div>\n",
       "<style scoped>\n",
       "    .dataframe tbody tr th:only-of-type {\n",
       "        vertical-align: middle;\n",
       "    }\n",
       "\n",
       "    .dataframe tbody tr th {\n",
       "        vertical-align: top;\n",
       "    }\n",
       "\n",
       "    .dataframe thead th {\n",
       "        text-align: right;\n",
       "    }\n",
       "</style>\n",
       "<table border=\"1\" class=\"dataframe\">\n",
       "  <thead>\n",
       "    <tr style=\"text-align: right;\">\n",
       "      <th></th>\n",
       "      <th>nomes</th>\n",
       "      <th>cpfs</th>\n",
       "      <th>emails</th>\n",
       "      <th>idades</th>\n",
       "    </tr>\n",
       "  </thead>\n",
       "  <tbody>\n",
       "    <tr>\n",
       "      <th>0</th>\n",
       "      <td>Howard</td>\n",
       "      <td>111.111.111-11</td>\n",
       "      <td>risus.varius@dictumPhasellusin.ca</td>\n",
       "      <td>32</td>\n",
       "    </tr>\n",
       "    <tr>\n",
       "      <th>1</th>\n",
       "      <td>Ian</td>\n",
       "      <td>222.222.222-22</td>\n",
       "      <td>Nunc@vulputate.ca</td>\n",
       "      <td>22</td>\n",
       "    </tr>\n",
       "    <tr>\n",
       "      <th>2</th>\n",
       "      <td>Peter</td>\n",
       "      <td>333.333.333-33</td>\n",
       "      <td>fames.ac.turpis@cursusa.org</td>\n",
       "      <td>25</td>\n",
       "    </tr>\n",
       "    <tr>\n",
       "      <th>3</th>\n",
       "      <td>Jonah</td>\n",
       "      <td>444.444.444-44</td>\n",
       "      <td>non@felisullamcorper.org</td>\n",
       "      <td>29</td>\n",
       "    </tr>\n",
       "    <tr>\n",
       "      <th>4</th>\n",
       "      <td>Kellie</td>\n",
       "      <td>555.555.555-55</td>\n",
       "      <td>eget.dictum.placerat@necluctus.co.uk</td>\n",
       "      <td>38</td>\n",
       "    </tr>\n",
       "  </tbody>\n",
       "</table>\n",
       "</div>"
      ],
      "text/plain": [
       "    nomes            cpfs                                emails  idades\n",
       "0  Howard  111.111.111-11     risus.varius@dictumPhasellusin.ca      32\n",
       "1     Ian  222.222.222-22                     Nunc@vulputate.ca      22\n",
       "2   Peter  333.333.333-33           fames.ac.turpis@cursusa.org      25\n",
       "3   Jonah  444.444.444-44              non@felisullamcorper.org      29\n",
       "4  Kellie  555.555.555-55  eget.dictum.placerat@necluctus.co.uk      38"
      ]
     },
     "execution_count": 62,
     "metadata": {},
     "output_type": "execute_result"
    }
   ],
   "source": [
    "dadoss = {\n",
    "'nomes': 'Howard Ian Peter Jonah Kellie'.split(),\n",
    "'cpfs' : '111.111.111-11 222.222.222-22 333.333.333-33 444.444.444-44 555.555.555-55'.split(),\n",
    "'emails' : 'risus.varius@dictumPhasellusin.ca Nunc@vulputate.ca fames.ac.turpis@cursusa.org non@felisullamcorper.org eget.dictum.placerat@necluctus.co.uk'.split(),\n",
    "'idades' : [32, 22, 25, 29, 38]\n",
    "}\n",
    "\n",
    "pd.DataFrame(dadoss)"
   ]
  },
  {
   "cell_type": "code",
   "execution_count": null,
   "id": "5c0b9522",
   "metadata": {},
   "outputs": [],
   "source": []
  },
  {
   "cell_type": "code",
   "execution_count": 65,
   "id": "736d9e3e",
   "metadata": {},
   "outputs": [
    {
     "name": "stdout",
     "output_type": "stream",
     "text": [
      "\n",
      "Informações do DataFrame:\n",
      "\n",
      "<class 'pandas.core.frame.DataFrame'>\n",
      "RangeIndex: 5 entries, 0 to 4\n",
      "Data columns (total 4 columns):\n",
      " #   Column  Non-Null Count  Dtype \n",
      "---  ------  --------------  ----- \n",
      " 0   nomes   5 non-null      object\n",
      " 1   cpfs    5 non-null      object\n",
      " 2   emails  5 non-null      object\n",
      " 3   idades  5 non-null      int64 \n",
      "dtypes: int64(1), object(3)\n",
      "memory usage: 288.0+ bytes\n",
      "None\n",
      "\n",
      "Quantidade de linhas e colunas =  (5, 4)\n",
      "\n",
      "Tipo de dados:\n",
      " nomes     object\n",
      "cpfs      object\n",
      "emails    object\n",
      "idades     int64\n",
      "dtype: object\n",
      "\n",
      "Qual o menor valor de cada coluna?\n",
      " nomes                Howard\n",
      "cpfs         111.111.111-11\n",
      "emails    Nunc@vulputate.ca\n",
      "idades                   22\n",
      "dtype: object\n",
      "\n",
      "Qual o maior valor?\n",
      " nomes                                 Peter\n",
      "cpfs                         555.555.555-55\n",
      "emails    risus.varius@dictumPhasellusin.ca\n",
      "idades                                   38\n",
      "dtype: object\n",
      "\n",
      "Qual a média aritmética?\n",
      " idades    29.2\n",
      "dtype: float64\n",
      "\n",
      "Qual o desvio padrão?\n",
      " idades    6.220932\n",
      "dtype: float64\n",
      "\n",
      "Qual a mediana?\n",
      " idades    29.0\n",
      "dtype: float64\n",
      "\n",
      "Resumo:\n",
      "           idades\n",
      "count   5.000000\n",
      "mean   29.200000\n",
      "std     6.220932\n",
      "min    22.000000\n",
      "25%    25.000000\n",
      "50%    29.000000\n",
      "75%    32.000000\n",
      "max    38.000000\n"
     ]
    },
    {
     "name": "stderr",
     "output_type": "stream",
     "text": [
      "C:\\Users\\viado\\AppData\\Local\\Temp\\ipykernel_9028\\793052824.py:8: FutureWarning: The default value of numeric_only in DataFrame.mean is deprecated. In a future version, it will default to False. In addition, specifying 'numeric_only=None' is deprecated. Select only valid columns or specify the value of numeric_only to silence this warning.\n",
      "  print('\\nQual a média aritmética?\\n', df_dados.mean()) # Extrai a média aritmética de cada coluna numérica\n",
      "C:\\Users\\viado\\AppData\\Local\\Temp\\ipykernel_9028\\793052824.py:9: FutureWarning: The default value of numeric_only in DataFrame.std is deprecated. In a future version, it will default to False. In addition, specifying 'numeric_only=None' is deprecated. Select only valid columns or specify the value of numeric_only to silence this warning.\n",
      "  print('\\nQual o desvio padrão?\\n', df_dados.std()) # Extrai o desvio padrão de cada coluna numérica\n",
      "C:\\Users\\viado\\AppData\\Local\\Temp\\ipykernel_9028\\793052824.py:10: FutureWarning: The default value of numeric_only in DataFrame.median is deprecated. In a future version, it will default to False. In addition, specifying 'numeric_only=None' is deprecated. Select only valid columns or specify the value of numeric_only to silence this warning.\n",
      "  print('\\nQual a mediana?\\n', df_dados.median()) # Extrai a mediana de cada coluna numérica\n"
     ]
    },
    {
     "data": {
      "text/html": [
       "<div>\n",
       "<style scoped>\n",
       "    .dataframe tbody tr th:only-of-type {\n",
       "        vertical-align: middle;\n",
       "    }\n",
       "\n",
       "    .dataframe tbody tr th {\n",
       "        vertical-align: top;\n",
       "    }\n",
       "\n",
       "    .dataframe thead th {\n",
       "        text-align: right;\n",
       "    }\n",
       "</style>\n",
       "<table border=\"1\" class=\"dataframe\">\n",
       "  <thead>\n",
       "    <tr style=\"text-align: right;\">\n",
       "      <th></th>\n",
       "      <th>nomes</th>\n",
       "      <th>cpfs</th>\n",
       "      <th>emails</th>\n",
       "      <th>idades</th>\n",
       "    </tr>\n",
       "  </thead>\n",
       "  <tbody>\n",
       "    <tr>\n",
       "      <th>0</th>\n",
       "      <td>Howard</td>\n",
       "      <td>111.111.111-11</td>\n",
       "      <td>risus.varius@dictumPhasellusin.ca</td>\n",
       "      <td>32</td>\n",
       "    </tr>\n",
       "    <tr>\n",
       "      <th>1</th>\n",
       "      <td>Ian</td>\n",
       "      <td>222.222.222-22</td>\n",
       "      <td>Nunc@vulputate.ca</td>\n",
       "      <td>22</td>\n",
       "    </tr>\n",
       "    <tr>\n",
       "      <th>2</th>\n",
       "      <td>Peter</td>\n",
       "      <td>333.333.333-33</td>\n",
       "      <td>fames.ac.turpis@cursusa.org</td>\n",
       "      <td>25</td>\n",
       "    </tr>\n",
       "    <tr>\n",
       "      <th>3</th>\n",
       "      <td>Jonah</td>\n",
       "      <td>444.444.444-44</td>\n",
       "      <td>non@felisullamcorper.org</td>\n",
       "      <td>29</td>\n",
       "    </tr>\n",
       "    <tr>\n",
       "      <th>4</th>\n",
       "      <td>Kellie</td>\n",
       "      <td>555.555.555-55</td>\n",
       "      <td>eget.dictum.placerat@necluctus.co.uk</td>\n",
       "      <td>38</td>\n",
       "    </tr>\n",
       "  </tbody>\n",
       "</table>\n",
       "</div>"
      ],
      "text/plain": [
       "    nomes            cpfs                                emails  idades\n",
       "0  Howard  111.111.111-11     risus.varius@dictumPhasellusin.ca      32\n",
       "1     Ian  222.222.222-22                     Nunc@vulputate.ca      22\n",
       "2   Peter  333.333.333-33           fames.ac.turpis@cursusa.org      25\n",
       "3   Jonah  444.444.444-44              non@felisullamcorper.org      29\n",
       "4  Kellie  555.555.555-55  eget.dictum.placerat@necluctus.co.uk      38"
      ]
     },
     "execution_count": 65,
     "metadata": {},
     "output_type": "execute_result"
    }
   ],
   "source": [
    "df_dadoss = pd.DataFrame(dados)\n",
    "print('\\nInformações do DataFrame:\\n')\n",
    "print(df_dados.info()) # Apresenta informações sobre a estrutura do DF\n",
    "print('\\nQuantidade de linhas e colunas = ', df_dados.shape) #Retorna uma tupla com o número de linhas e colunas\n",
    "print('\\nTipo de dados:\\n', df_dados.dtypes) # Retorna o tipo de dados, para cada coluna, se for misto será object\n",
    "print('\\nQual o menor valor de cada coluna?\\n', df_dados.min()) #Extrai o menor de cada coluna\n",
    "print('\\nQual o maior valor?\\n', df_dados.max()) # Extrai o valor máximo e cada coluna\n",
    "print('\\nQual a média aritmética?\\n', df_dados.mean()) # Extrai a média aritmética de cada coluna numérica\n",
    "print('\\nQual o desvio padrão?\\n', df_dados.std()) # Extrai o desvio padrão de cada coluna numérica\n",
    "print('\\nQual a mediana?\\n', df_dados.median()) # Extrai a mediana de cada coluna numérica\n",
    "print('\\nResumo:\\n', df_dados.describe()) # Exibe um resumo\n",
    "df_dados.head() # Exibe os 5 primeiros registros do DataFrame"
   ]
  },
  {
   "cell_type": "code",
   "execution_count": 71,
   "id": "50510341",
   "metadata": {},
   "outputs": [],
   "source": [
    "# Colunas em um Dataframe\n",
    "\n",
    "# sintaxe \n",
    "# nome_df.nome_coluna\n",
    "# nome_df[nomecoluna]\n",
    "#  nome_df[['col1', 'col2', 'col3']]"
   ]
  },
  {
   "cell_type": "code",
   "execution_count": null,
   "id": "30bfa573",
   "metadata": {},
   "outputs": [],
   "source": []
  },
  {
   "cell_type": "code",
   "execution_count": null,
   "id": "2941a6f0",
   "metadata": {},
   "outputs": [],
   "source": []
  }
 ],
 "metadata": {
  "kernelspec": {
   "display_name": "Python 3 (ipykernel)",
   "language": "python",
   "name": "python3"
  },
  "language_info": {
   "codemirror_mode": {
    "name": "ipython",
    "version": 3
   },
   "file_extension": ".py",
   "mimetype": "text/x-python",
   "name": "python",
   "nbconvert_exporter": "python",
   "pygments_lexer": "ipython3",
   "version": "3.10.9"
  }
 },
 "nbformat": 4,
 "nbformat_minor": 5
}
