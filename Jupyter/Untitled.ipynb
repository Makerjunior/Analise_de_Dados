{
 "cells": [
  {
   "cell_type": "code",
   "execution_count": 1,
   "id": "3a21e110",
   "metadata": {},
   "outputs": [],
   "source": [
    "import pandas as pd"
   ]
  },
  {
   "cell_type": "code",
   "execution_count": 2,
   "id": "9169b6c8",
   "metadata": {},
   "outputs": [],
   "source": [
    "lista_nomes =' Haward Ian Jonan Kellie'.split()"
   ]
  },
  {
   "cell_type": "code",
   "execution_count": 3,
   "id": "60f2d23b",
   "metadata": {},
   "outputs": [
    {
     "data": {
      "text/plain": [
       "0    Haward\n",
       "1       Ian\n",
       "2     Jonan\n",
       "3    Kellie\n",
       "dtype: object"
      ]
     },
     "execution_count": 3,
     "metadata": {},
     "output_type": "execute_result"
    }
   ],
   "source": [
    "pd.Series(lista_nomes)"
   ]
  },
  {
   "cell_type": "code",
   "execution_count": null,
   "id": "bac347d6",
   "metadata": {},
   "outputs": [],
   "source": []
  },
  {
   "cell_type": "code",
   "execution_count": 6,
   "id": "1971be8f",
   "metadata": {},
   "outputs": [
    {
     "data": {
      "text/plain": [
       "111.111.111-11                   Haward\n",
       "222.222.222-22                      Ian\n",
       "333.333.333-33                    Jonan\n",
       "444.444.444-44,555.555.555-55    Kellie\n",
       "dtype: object"
      ]
     },
     "execution_count": 6,
     "metadata": {},
     "output_type": "execute_result"
    }
   ],
   "source": [
    "  # Rotulos - para serem usados  no dicionario\n",
    "cpfs = '111.111.111-11 222.222.222-22 333.333.333-33 444.444.444-44,555.555.555-55'.split()\n",
    " # Exibe o conteudo do dicionário com o rótulo indeicado no construtor  \n",
    "pd.Series(lista_nomes, index=cpfs)"
   ]
  },
  {
   "cell_type": "code",
   "execution_count": null,
   "id": "3ab80966",
   "metadata": {},
   "outputs": [],
   "source": []
  },
  {
   "cell_type": "code",
   "execution_count": 4,
   "id": "43751e67",
   "metadata": {},
   "outputs": [
    {
     "data": {
      "text/plain": [
       "nome1    Howard\n",
       "nome2       Ian\n",
       "nome3     Peter\n",
       "nome4     Jonah\n",
       "nome5    Kellie\n",
       "dtype: object"
      ]
     },
     "execution_count": 4,
     "metadata": {},
     "output_type": "execute_result"
    }
   ],
   "source": [
    "dados = {\n",
    "'nome1': 'Howard',\n",
    "'nome2': 'Ian',\n",
    "'nome3': 'Peter',\n",
    "'nome4': 'Jonah',\n",
    "'nome5': 'Kellie',\n",
    "}\n",
    "pd.Series(dados) # Cria uma Series com um dicionario"
   ]
  },
  {
   "cell_type": "code",
   "execution_count": null,
   "id": "50098cd8",
   "metadata": {},
   "outputs": [],
   "source": []
  },
  {
   "cell_type": "code",
   "execution_count": null,
   "id": "e2739014",
   "metadata": {},
   "outputs": [],
   "source": []
  }
 ],
 "metadata": {
  "kernelspec": {
   "display_name": "Python 3 (ipykernel)",
   "language": "python",
   "name": "python3"
  },
  "language_info": {
   "codemirror_mode": {
    "name": "ipython",
    "version": 3
   },
   "file_extension": ".py",
   "mimetype": "text/x-python",
   "name": "python",
   "nbconvert_exporter": "python",
   "pygments_lexer": "ipython3",
   "version": "3.10.9"
  }
 },
 "nbformat": 4,
 "nbformat_minor": 5
}
